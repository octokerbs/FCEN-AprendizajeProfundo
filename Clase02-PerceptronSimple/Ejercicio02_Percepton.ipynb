{
 "cells": [
  {
   "cell_type": "code",
   "execution_count": 126,
   "id": "aec261c51a8e4689",
   "metadata": {
    "ExecuteTime": {
     "end_time": "2025-04-18T22:22:53.001308Z",
     "start_time": "2025-04-18T22:22:52.998968Z"
    }
   },
   "outputs": [],
   "source": [
    "import numpy as np\n",
    "import matplotlib.pyplot as plt"
   ]
  },
  {
   "cell_type": "markdown",
   "id": "bada90364cda6af1",
   "metadata": {},
   "source": [
    "### Perceptron discreto"
   ]
  },
  {
   "cell_type": "code",
   "execution_count": 127,
   "id": "86be85904e6af544",
   "metadata": {
    "ExecuteTime": {
     "end_time": "2025-04-18T22:54:29.132198Z",
     "start_time": "2025-04-18T22:54:29.127964Z"
    }
   },
   "outputs": [],
   "source": [
    "class PerceptronSimple:\n",
    "    def __init__(self, input_size, output_size, lr=0.01, epochs=1000):\n",
    "        self.w = np.random.randn(output_size, input_size)\n",
    "        self.b = np.random.randn(output_size)\n",
    "        self.lr = lr\n",
    "        self.epochs = epochs\n",
    "\n",
    "    def activation(self, x):\n",
    "        return np.where(x >= 0, 1, 0)\n",
    "\n",
    "    def predict(self, x_i):\n",
    "        return self.activation(np.dot(self.w, x_i) + self.b)\n",
    "\n",
    "    def train(self, X, d):\n",
    "        for _ in range(self.epochs):\n",
    "            for x_i, d_i in zip(X, d):\n",
    "                d_pred = self.predict(x_i)\n",
    "                error = d_i - d_pred\n",
    "                self.w += self.lr * np.outer(error, x_i)\n",
    "                self.b += self.lr * error"
   ]
  },
  {
   "cell_type": "code",
   "execution_count": 128,
   "id": "a2bc5a446624e2d3",
   "metadata": {
    "ExecuteTime": {
     "end_time": "2025-04-19T06:52:25.835396Z",
     "start_time": "2025-04-19T06:52:25.772386Z"
    }
   },
   "outputs": [
    {
     "data": {
      "text/plain": [
       "array([1])"
      ]
     },
     "execution_count": 128,
     "metadata": {},
     "output_type": "execute_result"
    }
   ],
   "source": [
    "X = np.array([(0,0), (0,1), (1, 0), (1, 1)])\n",
    "d = np.array([0, 0, 0, 1])\n",
    "\n",
    "n = X.shape[1]\n",
    "\n",
    "p = PerceptronSimple(n, 1)\n",
    "\n",
    "p.train(X, d) \n",
    "\n",
    "p.predict((1,1))"
   ]
  },
  {
   "cell_type": "markdown",
   "id": "69b01352f552a57a",
   "metadata": {},
   "source": [
    "### Perceptron Grilla"
   ]
  },
  {
   "cell_type": "code",
   "execution_count": 129,
   "id": "4a2ae9f8",
   "metadata": {},
   "outputs": [],
   "source": [
    "def flatten(matrix):\n",
    "    return np.array(matrix).flatten()"
   ]
  },
  {
   "cell_type": "code",
   "execution_count": 130,
   "id": "b33ae152",
   "metadata": {},
   "outputs": [],
   "source": [
    "letras = {\n",
    "    'A': flatten([\n",
    "        [0,1,1,1,0],\n",
    "        [1,0,0,0,1],\n",
    "        [1,1,1,1,1],\n",
    "        [1,0,0,0,1],\n",
    "        [1,0,0,0,1]\n",
    "    ]),\n",
    "    'B': flatten([\n",
    "        [1,1,1,1,0],\n",
    "        [1,0,0,0,1],\n",
    "        [1,1,1,1,0],\n",
    "        [1,0,0,0,1],\n",
    "        [1,1,1,1,0]\n",
    "    ]),\n",
    "    'C': flatten([\n",
    "        [0,1,1,1,1],\n",
    "        [1,0,0,0,0],\n",
    "        [1,0,0,0,0],\n",
    "        [1,0,0,0,0],\n",
    "        [0,1,1,1,1]\n",
    "    ])\n",
    "}"
   ]
  },
  {
   "cell_type": "code",
   "execution_count": 131,
   "id": "5b3ef469",
   "metadata": {},
   "outputs": [
    {
     "name": "stdout",
     "output_type": "stream",
     "text": [
      "[0 0 0 0 0]\n",
      "[0 0 0 0 1]\n",
      "[1 1 0 0 1]\n"
     ]
    }
   ],
   "source": [
    "def letra_a_codigo(letra):\n",
    "    index = ord(letra.upper()) - ord('A')\n",
    "    return np.array([int(x) for x in format(index, '05b')])\n",
    "\n",
    "print(letra_a_codigo('A')) # 0 0 0 0 0 = Letra 0\n",
    "print(letra_a_codigo('B')) # 0 0 0 0 1 = Letra 1\n",
    "print(letra_a_codigo('Z')) # 1 1 0 0 1 = Letra 25"
   ]
  },
  {
   "cell_type": "code",
   "execution_count": 132,
   "id": "6aa2c4e3eb15fd7c",
   "metadata": {},
   "outputs": [
    {
     "name": "stdout",
     "output_type": "stream",
     "text": [
      "[0 0 0 0 0]\n",
      "[0 0 0 0 1]\n",
      "[0 0 0 1 0]\n",
      "[0 0 0 0 1]\n",
      "[0 0 0 1 0]\n"
     ]
    }
   ],
   "source": [
    "X = []\n",
    "d = []\n",
    "\n",
    "for letra, grilla in letras.items():\n",
    "    X.append(grilla)\n",
    "    d.append(letra_a_codigo(letra))\n",
    "\n",
    "X = np.array(X)\n",
    "d = np.array(d)\n",
    "\n",
    "n = X.shape[1]\n",
    "\n",
    "p = PerceptronSimple(n, 5)\n",
    "\n",
    "errs = p.train(X, d)\n",
    "\n",
    "print(p.predict(letras['A']))\n",
    "print(p.predict(letras['B']))\n",
    "print(p.predict(letras['C']))\n",
    "print(p.predict(flatten([ # R -> Deberia parecerse a B (0 0 0 0 1)\n",
    "        [1,1,1,1,0],\n",
    "        [1,0,0,0,1],\n",
    "        [1,1,1,1,0],\n",
    "        [1,0,0,1,0],\n",
    "        [1,0,0,0,1]\n",
    "    ])))\n",
    "print(p.predict(flatten([ # G -> Deberia parecerse a C (0 0 0 1 0)\n",
    "        [0,1,1,1,1],\n",
    "        [1,0,0,0,0],\n",
    "        [1,0,0,1,1],\n",
    "        [1,0,0,0,1],\n",
    "        [0,1,1,1,1]\n",
    "    ])))"
   ]
  }
 ],
 "metadata": {
  "kernelspec": {
   "display_name": ".venv",
   "language": "python",
   "name": "python3"
  },
  "language_info": {
   "codemirror_mode": {
    "name": "ipython",
    "version": 3
   },
   "file_extension": ".py",
   "mimetype": "text/x-python",
   "name": "python",
   "nbconvert_exporter": "python",
   "pygments_lexer": "ipython3",
   "version": "3.13.3"
  }
 },
 "nbformat": 4,
 "nbformat_minor": 5
}
