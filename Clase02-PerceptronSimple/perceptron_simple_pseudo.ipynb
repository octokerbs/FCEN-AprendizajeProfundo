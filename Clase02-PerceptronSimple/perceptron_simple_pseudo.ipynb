{
 "cells": [
  {
   "cell_type": "code",
   "execution_count": 199,
   "id": "3942f10b",
   "metadata": {},
   "outputs": [],
   "source": [
    "import numpy as np"
   ]
  },
  {
   "cell_type": "code",
   "execution_count": 200,
   "id": "b8f3a890",
   "metadata": {},
   "outputs": [],
   "source": [
    "class PerceptronSimpleDiscreto:\n",
    "    def __init__(self, input_size, output_size, eta=0.01, k_max=1000):\n",
    "        self.w = np.random.randn(input_size + 1, output_size) * 0.01\n",
    "        self.eta = eta\n",
    "        self.k_max = k_max\n",
    "\n",
    "    # Se devuelve el vector donde si la multiplicacion es positiva entonces es 1, caso contrario 0 (en vez de -1)\n",
    "    def discretizar(self, x):\n",
    "        return np.where(x >= 0, 1, 0)\n",
    "\n",
    "    # Multiplicamos el vector de features por el de entrenamiento\n",
    "    def predict(self, x_i):\n",
    "        return self.discretizar(np.dot(x_i.T, self.w))    # (1,26) * (26,5) = (1,5)\n",
    "     \n",
    "    def train(self, X, d, tol=1e-4):\n",
    "        k = 0\n",
    "        p = 1 \n",
    "        error = 0 \n",
    "        while k < self.k_max:\n",
    "            while p < len(X):\n",
    "                y_p = X[p]\n",
    "                d_p = d[p]\n",
    "                o = self.predict(y_p)  # Calcula la prediccion y convierte el resultado a un 0 o 1\n",
    "                self.w = self.w + 0.5 * self.eta * (d_p - o) * y_p \n",
    "                error = error +  0.5 * np.sum((d - o)**2)\n",
    "                p = p + 1\n",
    "            k = k + 1\n",
    "            if error < tol:\n",
    "                break "
   ]
  },
  {
   "cell_type": "code",
   "execution_count": 201,
   "id": "6575f034",
   "metadata": {},
   "outputs": [],
   "source": [
    "def flatten(matrix):\n",
    "    x = np.array(matrix).flatten()\n",
    "    y = np.append(x, 1) # Se agregta para el bias\n",
    "    return y"
   ]
  },
  {
   "cell_type": "code",
   "execution_count": 202,
   "id": "03ce796a",
   "metadata": {},
   "outputs": [],
   "source": [
    "letras = {\n",
    "    'A': flatten([\n",
    "        [0,1,1,1,0],\n",
    "        [1,0,0,0,1],\n",
    "        [1,1,1,1,1],\n",
    "        [1,0,0,0,1],\n",
    "        [1,0,0,0,1],\n",
    "    ]),\n",
    "    'B': flatten([\n",
    "        [1,1,1,1,0],\n",
    "        [1,0,0,0,1],\n",
    "        [1,1,1,1,0],\n",
    "        [1,0,0,0,1],\n",
    "        [1,1,1,1,0],\n",
    "    ]),\n",
    "    'C': flatten([\n",
    "        [0,1,1,1,1],\n",
    "        [1,0,0,0,0],\n",
    "        [1,0,0,0,0],\n",
    "        [1,0,0,0,0],\n",
    "        [0,1,1,1,1],\n",
    "    ]),\n",
    "}"
   ]
  },
  {
   "cell_type": "code",
   "execution_count": 203,
   "id": "62a89206",
   "metadata": {},
   "outputs": [],
   "source": [
    "def mayuscula_a_binario(mayuscula):\n",
    "    index = ord(mayuscula) - ord('A')\n",
    "    return np.array([int(x) for x in format(index, '05b')])"
   ]
  },
  {
   "cell_type": "code",
   "execution_count": 204,
   "id": "90488205",
   "metadata": {},
   "outputs": [],
   "source": [
    "# Creamos los datos de entrenamiento\n",
    "X_train = []\n",
    "d_train = []\n",
    "\n",
    "for letra, representacion in letras.items():\n",
    "    representacion_2D = representacion.reshape(representacion.shape[0], 1)\n",
    "    X_train.append(representacion_2D)\n",
    "    d_train.append(mayuscula_a_binario(letra))\n",
    "\n",
    "X_train = np.array(X_train)\n",
    "d_train = np.array(d_train)"
   ]
  },
  {
   "cell_type": "code",
   "execution_count": 205,
   "id": "7ea57ec6",
   "metadata": {},
   "outputs": [],
   "source": [
    "p = PerceptronSimpleDiscreto(25, 5) # Las representaciones tienen 25 casillas y los arreglos de salida tienen 5 binarios.\n",
    "p.train(X_train, d_train)"
   ]
  },
  {
   "cell_type": "code",
   "execution_count": 206,
   "id": "34d1c768",
   "metadata": {},
   "outputs": [
    {
     "data": {
      "text/plain": [
       "array([[0, 0, 0, 0, 1]])"
      ]
     },
     "execution_count": 206,
     "metadata": {},
     "output_type": "execute_result"
    }
   ],
   "source": [
    "# La R deberia ser muy parecida a la A (o sea, [0, 0, 0, 0, 0])\n",
    "R = flatten([\n",
    "        [1,1,1,1,0],\n",
    "        [1,0,0,0,1],\n",
    "        [1,1,1,1,0],\n",
    "        [1,0,0,0,1],\n",
    "        [1,0,0,0,1],\n",
    "    ])\n",
    "R = R.reshape(R.shape[0], 1)\n",
    "\n",
    "p.predict(R)"
   ]
  },
  {
   "cell_type": "code",
   "execution_count": 207,
   "id": "891c861c",
   "metadata": {},
   "outputs": [
    {
     "data": {
      "text/plain": [
       "array([[0, 0, 0, 0, 1]])"
      ]
     },
     "execution_count": 207,
     "metadata": {},
     "output_type": "execute_result"
    }
   ],
   "source": [
    "# La G deberia ser muy parecida a la C (o sea, [0, 0, 0, 1, 0])\n",
    "G = flatten([\n",
    "        [1,1,1,1,1],\n",
    "        [1,0,0,0,0],\n",
    "        [1,0,1,1,1],\n",
    "        [1,0,0,0,1],\n",
    "        [1,1,1,1,1],\n",
    "    ])\n",
    "G = G.reshape(G.shape[0], 1)\n",
    "\n",
    "p.predict(G)"
   ]
  }
 ],
 "metadata": {
  "kernelspec": {
   "display_name": ".venv",
   "language": "python",
   "name": "python3"
  },
  "language_info": {
   "codemirror_mode": {
    "name": "ipython",
    "version": 3
   },
   "file_extension": ".py",
   "mimetype": "text/x-python",
   "name": "python",
   "nbconvert_exporter": "python",
   "pygments_lexer": "ipython3",
   "version": "3.13.3"
  }
 },
 "nbformat": 4,
 "nbformat_minor": 5
}
